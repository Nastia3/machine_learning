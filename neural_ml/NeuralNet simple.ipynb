{
 "cells": [
  {
   "cell_type": "code",
   "execution_count": 102,
   "metadata": {},
   "outputs": [],
   "source": [
    "import numpy as np\n",
    "import pandas as pd\n",
    "from sklearn.model_selection import train_test_split\n",
    "from mpl_toolkits.mplot3d import Axes3D\n",
    "import matplotlib.pyplot as plt\n",
    "\n",
    "from matplotlib.colors import ListedColormap\n",
    "cm_bright = ListedColormap(['#FF0000', '#0000FF'])\n",
    "%matplotlib inline\n",
    "from sklearn.metrics import accuracy_score\n",
    "\n",
    "import sklearn.linear_model"
   ]
  },
  {
   "cell_type": "code",
   "execution_count": 103,
   "metadata": {},
   "outputs": [],
   "source": [
    "def plot_surface(cls, x_1, x_2, ax=None, threshold=0.5, contourf=False):\n",
    "    xx1, xx2 = np.meshgrid(np.linspace(x_1.min(), x_1.max(), 100), \n",
    "                           np.linspace(x_2.min(), x_2.max(), 100))\n",
    "\n",
    "    X_pred = np.c_[xx1.ravel(), xx2.ravel()]\n",
    "    pred = cls.predict_proba(X_pred)[:, 0]\n",
    "    Z = pred.reshape((100, 100))\n",
    "    if ax is None:\n",
    "        ax = plt.gca()\n",
    "    ax.contour(xx1, xx2, Z, levels=[threshold], colors='yellow')\n",
    "    ax.set_xlim((x_1.min(), x_1.max()))\n",
    "    ax.set_ylim((x_2.min(), x_2.max()))"
   ]
  },
  {
   "cell_type": "code",
   "execution_count": 104,
   "metadata": {},
   "outputs": [],
   "source": [
    "def plot_data(X, y):\n",
    "    ax = plt.gca()\n",
    "    ax.scatter(X[:,0], X[:,1], c=(y == 1), cmap=cm_bright)"
   ]
  },
  {
   "cell_type": "code",
   "execution_count": 105,
   "metadata": {},
   "outputs": [],
   "source": [
    "class NeuralNet:\n",
    "  \n",
    "    \n",
    "    def __init__(self, hidden_layer_sizes, normalize = True, learning_rate = 0.01, num_iter = 30000, precision = None):\n",
    "        self.learning_rate = learning_rate\n",
    "        self.num_iter = num_iter\n",
    "        self.normalize = normalize\n",
    "        self.hidden_layer_sizes = hidden_layer_sizes\n",
    "        self.precision = precision\n",
    "    \n",
    "    def __normalize(self, X, mean = None, std = None):\n",
    "       \n",
    "        n = X.shape[0]\n",
    "        m = mean\n",
    "        if m is None:\n",
    "            m = np.mean(X, axis=1).reshape((n, 1))\n",
    "        s = std\n",
    "        if s is None:\n",
    "            s = np.std(X, axis=1).reshape((n, 1))\n",
    "        X_new = (X - m) / s**2\n",
    "        return X_new, m, s\n",
    "\n",
    "    def __sigmoid(self, Z):\n",
    "       \n",
    "        return 1 / (1 + np.exp(-Z))\n",
    "    \n",
    "    \n",
    "    \n",
    "    def __initialize_parameters(self):\n",
    "        hidden_layer_sizes = self.hidden_layer_sizes\n",
    "        parameters = {}\n",
    "        for l in range(1, len(hidden_layer_sizes)):\n",
    "            parameters['W' + str(l)] = np.random.randn(hidden_layer_sizes[l], hidden_layer_sizes[l-1]) * 0.01\n",
    "            parameters['b' + str(l)] = np.zeros((hidden_layer_sizes[l], 1))\n",
    "        \n",
    "        self.parameters = parameters\n",
    "\n",
    "\n",
    "    def __forward_linear_activation(self, A_prev, W, b):\n",
    "        \n",
    "    \n",
    "        Z = np.dot(W, A_prev) + b\n",
    "        linear_cache = (A_prev, W, b)\n",
    "        A = self.__sigmoid(Z)\n",
    "        activation_cache = Z\n",
    "        \n",
    "        cache = (linear_cache, activation_cache)\n",
    "\n",
    "        return A, cache\n",
    "    \n",
    "    def __multilayer_forward(self, X):       \n",
    "        parameters = self.parameters\n",
    "        caches = []\n",
    "        A = X\n",
    "        L = len(parameters) // 2\n",
    "\n",
    "        for l in range(1, L):\n",
    "            A_prev = A \n",
    "            A, cache = self.__forward_linear_activation(A_prev, parameters[\"W\"+str(l)], parameters[\"b\"+str(l)])\n",
    "            caches.append(cache)\n",
    "            \n",
    "        AL, cache = self.__forward_linear_activation(A, parameters[\"W\"+str(L)], parameters[\"b\"+str(L)])\n",
    "        caches.append(cache)\n",
    "        \n",
    "        assert(AL.shape == (1,X.shape[1]))\n",
    "\n",
    "        return AL, caches\n",
    "\n",
    "\n",
    "    def __backward_linear_activation(self, dA, cache):\n",
    "        \n",
    "        linear_cache, activation_cache = cache\n",
    "        \n",
    "        Z = activation_cache\n",
    "        s = 1/(1+np.exp(-Z))\n",
    "        dZ = dA * s * (1-s)\n",
    "        \n",
    "        A_prev, W, b = linear_cache\n",
    "        m = A_prev.shape[1]\n",
    "        dW = 1 / m * np.dot(dZ, A_prev.T)\n",
    "        db = 1 / m * np.sum(dZ, axis=1, keepdims=True)\n",
    "        dA_prev = np.dot(W.T, dZ)\n",
    "        \n",
    "        return dA_prev, dW, db\n",
    "\n",
    "\n",
    "    def __multilayer_backward(self, X, Y, caches):\n",
    "        grads = {}\n",
    "        AL = X\n",
    "        L = len(caches)\n",
    "        m = AL.shape[1]\n",
    "        Y = Y.reshape(AL.shape)\n",
    "\n",
    "        dAL = -(np.divide(Y, AL) - np.divide(1 - Y, 1 - AL))\n",
    "        \n",
    "        current_cache = caches[L-1]\n",
    "        grads[\"dA\" + str(L-1)], grads[\"dW\" + str(L)], grads[\"db\" + str(L)] = self.__backward_linear_activation(dAL, current_cache)\n",
    "        \n",
    "        for l in reversed(range(L-1)):\n",
    "            current_cache = caches[l]\n",
    "            dA_prev_temp, dW_temp, db_temp = self.__backward_linear_activation(grads[\"dA\" + str(l + 1)], current_cache)\n",
    "            grads[\"dA\" + str(l)] = dA_prev_temp\n",
    "            grads[\"dW\" + str(l + 1)] = dW_temp\n",
    "            grads[\"db\" + str(l + 1)] = db_temp\n",
    "            \n",
    "        return grads\n",
    "    \n",
    "\n",
    "    \n",
    "    def compute_cost(self, A, Y):\n",
    "        m = Y.shape[1]\n",
    "        res = Y * np.log(A) + (1 - Y) * np.log(1 - A)\n",
    "        J = -(1 / m) * np.sum(res)\n",
    "        return J\n",
    "    \n",
    "    def __update_parameters(self, grads):\n",
    "        parameters = self.parameters;\n",
    "        learning_rate = self.learning_rate\n",
    "        L = len(parameters) // 2\n",
    "\n",
    "        for l in range(L):\n",
    "            parameters[\"W\" + str(l+1)] = parameters[\"W\" + str(l+1)] - learning_rate * grads[\"dW\" + str(l+1)]\n",
    "            parameters[\"b\" + str(l+1)] = parameters[\"b\" + str(l+1)] - learning_rate * grads[\"db\" + str(l+1)]\n",
    "            \n",
    "        self.parameters = parameters;\n",
    "        \n",
    "\n",
    "    def fit(self, X_vert, Y_vert, print_cost = True):\n",
    "        \n",
    "        X, Y = X_vert.T, Y_vert.T\n",
    "        \n",
    "        if self.normalize:\n",
    "            X, self.__mean, self.__std = self.__normalize(X)\n",
    "        \n",
    "        costs = []\n",
    "        \n",
    "        self.__initialize_parameters()\n",
    "\n",
    "        for i in range(0, self.num_iter):\n",
    "\n",
    "            AL, caches = self.__multilayer_forward(X)\n",
    "            \n",
    "            cost = self.compute_cost(AL, Y)\n",
    "            \n",
    "            grads = self.__multilayer_backward(AL, Y, caches)\n",
    "            \n",
    "            self.__update_parameters(grads)\n",
    "            \n",
    "            if print_cost and i % 100 == 0:\n",
    "                print (\"Cost after iteration %i: %f\" %(i, cost))\n",
    "            if print_cost and i % 100 == 0:\n",
    "                costs.append(cost)\n",
    "                \n",
    "                if len(costs) > 1 and self.precision != None and np.abs(costs[-2] - costs[-1]) < self.precision:\n",
    "                    print('Stopping gradient descent ...')\n",
    "                    break\n",
    "\n",
    "        if print_cost:\n",
    "                plt.plot(costs)\n",
    "                plt.ylabel(\"Cost\")\n",
    "                plt.xlabel(\"Iteration, *100\")\n",
    "                plt.show()\n",
    "\n",
    "    def predict_proba(self, X_vert):\n",
    "        X = X_vert.T\n",
    "        if self.normalize:\n",
    "            X, _, _ = self.__normalize(X, self.__mean, self.__std)\n",
    "        \n",
    "        probs = self.__multilayer_forward(X)[0]\n",
    "        \n",
    "        return np.column_stack((probs.T, 1 - probs.T))\n",
    "    \n",
    "    def predict(self, X_vert):\n",
    "        positive_probs = self.predict_proba(X_vert)[:, 0]\n",
    "        return (positive_probs >= 0.5).astype(int)"
   ]
  },
  {
   "cell_type": "code",
   "execution_count": 106,
   "metadata": {},
   "outputs": [
    {
     "name": "stdout",
     "output_type": "stream",
     "text": [
      "Training set: X=(118, 2), y=(118,)\n"
     ]
    }
   ],
   "source": [
    "data_columns = [\"test1\", \"test2\"]\n",
    "target_column = \"passed\"\n",
    "df = pd.read_csv(\"tests.csv\")\n",
    "X, Y = df[data_columns].values, df[target_column]\n",
    "print('Training set: X={}, y={}'.format(X.shape, Y.shape))"
   ]
  },
  {
   "cell_type": "code",
   "execution_count": 107,
   "metadata": {},
   "outputs": [
    {
     "data": {
      "image/png": "[encoded data removed]",
      "text/plain": [
       "<Figure size 432x288 with 1 Axes>"
      ]
     },
     "metadata": {
      "needs_background": "light"
     },
     "output_type": "display_data"
    }
   ],
   "source": [
    "plot_data(X, Y)"
   ]
  },
  {
   "cell_type": "code",
   "execution_count": 108,
   "metadata": {},
   "outputs": [],
   "source": [
    "cls = NeuralNet(hidden_layer_sizes = [2,2,1], normalize = True, learning_rate = 0.5, num_iter = 14000) \n",
    "\n",
    "X_train, X_test, Y_train, Y_test = train_test_split(X, Y.values.reshape((Y.shape[0], 1)), test_size = 0.2, random_state=10)"
   ]
  },
  {
   "cell_type": "code",
   "execution_count": 109,
   "metadata": {},
   "outputs": [
    {
     "name": "stdout",
     "output_type": "stream",
     "text": [
      "Cost after iteration 0: 0.693196\n",
      "Cost after iteration 100: 0.689483\n",
      "Cost after iteration 200: 0.689403\n",
      "Cost after iteration 300: 0.689239\n",
      "Cost after iteration 400: 0.688954\n",
      "Cost after iteration 500: 0.688584\n",
      "Cost after iteration 600: 0.688191\n",
      "Cost after iteration 700: 0.687706\n",
      "Cost after iteration 800: 0.686864\n",
      "Cost after iteration 900: 0.685063\n",
      "Cost after iteration 1000: 0.681186\n",
      "Cost after iteration 1100: 0.674129\n",
      "Cost after iteration 1200: 0.662738\n",
      "Cost after iteration 1300: 0.643075\n",
      "Cost after iteration 1400: 0.616556\n",
      "Cost after iteration 1500: 0.595416\n",
      "Cost after iteration 1600: 0.582220\n",
      "Cost after iteration 1700: 0.574293\n",
      "Cost after iteration 1800: 0.569270\n",
      "Cost after iteration 1900: 0.565836\n",
      "Cost after iteration 2000: 0.563325\n",
      "Cost after iteration 2100: 0.561389\n",
      "Cost after iteration 2200: 0.559837\n",
      "Cost after iteration 2300: 0.558555\n",
      "Cost after iteration 2400: 0.557470\n",
      "Cost after iteration 2500: 0.556534\n",
      "Cost after iteration 2600: 0.555712\n",
      "Cost after iteration 2700: 0.554982\n",
      "Cost after iteration 2800: 0.554324\n",
      "Cost after iteration 2900: 0.553727\n",
      "Cost after iteration 3000: 0.553182\n",
      "Cost after iteration 3100: 0.552681\n",
      "Cost after iteration 3200: 0.552219\n",
      "Cost after iteration 3300: 0.551792\n",
      "Cost after iteration 3400: 0.551397\n",
      "Cost after iteration 3500: 0.551030\n",
      "Cost after iteration 3600: 0.550689\n",
      "Cost after iteration 3700: 0.550371\n",
      "Cost after iteration 3800: 0.550075\n",
      "Cost after iteration 3900: 0.549798\n",
      "Cost after iteration 4000: 0.549540\n",
      "Cost after iteration 4100: 0.549298\n",
      "Cost after iteration 4200: 0.549071\n",
      "Cost after iteration 4300: 0.548859\n",
      "Cost after iteration 4400: 0.548659\n",
      "Cost after iteration 4500: 0.548471\n",
      "Cost after iteration 4600: 0.548294\n",
      "Cost after iteration 4700: 0.548127\n",
      "Cost after iteration 4800: 0.547969\n",
      "Cost after iteration 4900: 0.547819\n",
      "Cost after iteration 5000: 0.547678\n",
      "Cost after iteration 5100: 0.547543\n",
      "Cost after iteration 5200: 0.547416\n",
      "Cost after iteration 5300: 0.547294\n",
      "Cost after iteration 5400: 0.547178\n",
      "Cost after iteration 5500: 0.547068\n",
      "Cost after iteration 5600: 0.546962\n",
      "Cost after iteration 5700: 0.546861\n",
      "Cost after iteration 5800: 0.546764\n",
      "Cost after iteration 5900: 0.546670\n",
      "Cost after iteration 6000: 0.546580\n",
      "Cost after iteration 6100: 0.546494\n",
      "Cost after iteration 6200: 0.546410\n",
      "Cost after iteration 6300: 0.546329\n",
      "Cost after iteration 6400: 0.546251\n",
      "Cost after iteration 6500: 0.546175\n",
      "Cost after iteration 6600: 0.546101\n",
      "Cost after iteration 6700: 0.546029\n",
      "Cost after iteration 6800: 0.545959\n",
      "Cost after iteration 6900: 0.545890\n",
      "Cost after iteration 7000: 0.545823\n",
      "Cost after iteration 7100: 0.545757\n",
      "Cost after iteration 7200: 0.545693\n",
      "Cost after iteration 7300: 0.545629\n",
      "Cost after iteration 7400: 0.545567\n",
      "Cost after iteration 7500: 0.545505\n",
      "Cost after iteration 7600: 0.545444\n",
      "Cost after iteration 7700: 0.545384\n",
      "Cost after iteration 7800: 0.545324\n",
      "Cost after iteration 7900: 0.545264\n",
      "Cost after iteration 8000: 0.545205\n",
      "Cost after iteration 8100: 0.545146\n",
      "Cost after iteration 8200: 0.545087\n",
      "Cost after iteration 8300: 0.545028\n",
      "Cost after iteration 8400: 0.544969\n",
      "Cost after iteration 8500: 0.544909\n",
      "Cost after iteration 8600: 0.544850\n",
      "Cost after iteration 8700: 0.544789\n",
      "Cost after iteration 8800: 0.544729\n",
      "Cost after iteration 8900: 0.544667\n",
      "Cost after iteration 9000: 0.544605\n",
      "Cost after iteration 9100: 0.544541\n",
      "Cost after iteration 9200: 0.544477\n",
      "Cost after iteration 9300: 0.544411\n",
      "Cost after iteration 9400: 0.544344\n",
      "Cost after iteration 9500: 0.544275\n",
      "Cost after iteration 9600: 0.544204\n",
      "Cost after iteration 9700: 0.544131\n",
      "Cost after iteration 9800: 0.544056\n",
      "Cost after iteration 9900: 0.543978\n",
      "Cost after iteration 10000: 0.543897\n",
      "Cost after iteration 10100: 0.543812\n",
      "Cost after iteration 10200: 0.543724\n",
      "Cost after iteration 10300: 0.543632\n",
      "Cost after iteration 10400: 0.543535\n",
      "Cost after iteration 10500: 0.543433\n",
      "Cost after iteration 10600: 0.543325\n",
      "Cost after iteration 10700: 0.543212\n",
      "Cost after iteration 10800: 0.543092\n",
      "Cost after iteration 10900: 0.542965\n",
      "Cost after iteration 11000: 0.542832\n",
      "Cost after iteration 11100: 0.542691\n",
      "Cost after iteration 11200: 0.542543\n",
      "Cost after iteration 11300: 0.542389\n",
      "Cost after iteration 11400: 0.542229\n",
      "Cost after iteration 11500: 0.542064\n",
      "Cost after iteration 11600: 0.541894\n",
      "Cost after iteration 11700: 0.541720\n",
      "Cost after iteration 11800: 0.541544\n",
      "Cost after iteration 11900: 0.541366\n",
      "Cost after iteration 12000: 0.541186\n",
      "Cost after iteration 12100: 0.541007\n",
      "Cost after iteration 12200: 0.540828\n",
      "Cost after iteration 12300: 0.540650\n",
      "Cost after iteration 12400: 0.540473\n",
      "Cost after iteration 12500: 0.540298\n",
      "Cost after iteration 12600: 0.540126\n",
      "Cost after iteration 12700: 0.539956\n",
      "Cost after iteration 12800: 0.539789\n",
      "Cost after iteration 12900: 0.539625\n",
      "Cost after iteration 13000: 0.539463\n",
      "Cost after iteration 13100: 0.539305\n",
      "Cost after iteration 13200: 0.539150\n",
      "Cost after iteration 13300: 0.538999\n",
      "Cost after iteration 13400: 0.538850\n",
      "Cost after iteration 13500: 0.538705\n",
      "Cost after iteration 13600: 0.538562\n",
      "Cost after iteration 13700: 0.538423\n",
      "Cost after iteration 13800: 0.538287\n",
      "Cost after iteration 13900: 0.538154\n"
     ]
    },
    {
     "data": {
      "image/png": "[encoded data removed]",
      "text/plain": [
       "<Figure size 432x288 with 1 Axes>"
      ]
     },
     "metadata": {
      "needs_background": "light"
     },
     "output_type": "display_data"
    }
   ],
   "source": [
    "cls.fit(X_train, Y_train)"
   ]
  },
  {
   "cell_type": "code",
   "execution_count": 110,
   "metadata": {},
   "outputs": [
    {
     "name": "stdout",
     "output_type": "stream",
     "text": [
      "{'W1': array([[-1.55046745, -2.9817202 ],\n",
      "       [-2.10462945, -2.32477212]]), 'b1': array([[ 8.80304358],\n",
      "       [-8.72837771]]), 'W2': array([[ 6.2631989 , -7.20031457]]), 'b2': array([[-5.27509122]])}\n"
     ]
    }
   ],
   "source": [
    "print(cls.parameters)"
   ]
  },
  {
   "cell_type": "code",
   "execution_count": 111,
   "metadata": {},
   "outputs": [
    {
     "data": {
      "text/plain": [
       "array([[0.72539774, 0.27460226],\n",
       "       [0.6236827 , 0.3763173 ],\n",
       "       [0.62145803, 0.37854197],\n",
       "       [0.22511215, 0.77488785],\n",
       "       [0.0266215 , 0.9733785 ],\n",
       "       [0.68995209, 0.31004791],\n",
       "       [0.01281182, 0.98718818],\n",
       "       [0.72848715, 0.27151285],\n",
       "       [0.72797768, 0.27202232],\n",
       "       [0.70912841, 0.29087159],\n",
       "       [0.72444245, 0.27555755],\n",
       "       [0.26550604, 0.73449396],\n",
       "       [0.25098615, 0.74901385],\n",
       "       [0.17417349, 0.82582651],\n",
       "       [0.66047426, 0.33952574],\n",
       "       [0.72204695, 0.27795305],\n",
       "       [0.70534793, 0.29465207],\n",
       "       [0.72859292, 0.27140708],\n",
       "       [0.67330357, 0.32669643],\n",
       "       [0.59771057, 0.40228943],\n",
       "       [0.72367699, 0.27632301],\n",
       "       [0.68480966, 0.31519034],\n",
       "       [0.70050416, 0.29949584],\n",
       "       [0.08814931, 0.91185069],\n",
       "       [0.72658959, 0.27341041],\n",
       "       [0.67407554, 0.32592446],\n",
       "       [0.19903105, 0.80096895],\n",
       "       [0.67893418, 0.32106582],\n",
       "       [0.64672349, 0.35327651],\n",
       "       [0.71983806, 0.28016194],\n",
       "       [0.69976384, 0.30023616],\n",
       "       [0.71993645, 0.28006355],\n",
       "       [0.42106673, 0.57893327],\n",
       "       [0.71644679, 0.28355321],\n",
       "       [0.00670909, 0.99329091],\n",
       "       [0.72479868, 0.27520132],\n",
       "       [0.39573523, 0.60426477],\n",
       "       [0.72815991, 0.27184009],\n",
       "       [0.72713105, 0.27286895],\n",
       "       [0.0241047 , 0.9758953 ],\n",
       "       [0.04429802, 0.95570198],\n",
       "       [0.55296609, 0.44703391],\n",
       "       [0.01283859, 0.98716141],\n",
       "       [0.72680931, 0.27319069],\n",
       "       [0.20464984, 0.79535016],\n",
       "       [0.72771202, 0.27228798],\n",
       "       [0.03249859, 0.96750141],\n",
       "       [0.01337771, 0.98662229],\n",
       "       [0.05399853, 0.94600147],\n",
       "       [0.55816923, 0.44183077],\n",
       "       [0.59230474, 0.40769526],\n",
       "       [0.7286239 , 0.2713761 ],\n",
       "       [0.72594553, 0.27405447],\n",
       "       [0.00677996, 0.99322004],\n",
       "       [0.39073723, 0.60926277],\n",
       "       [0.71030058, 0.28969942],\n",
       "       [0.0038364 , 0.9961636 ],\n",
       "       [0.57602329, 0.42397671],\n",
       "       [0.71513   , 0.28487   ],\n",
       "       [0.72753743, 0.27246257],\n",
       "       [0.72704932, 0.27295068],\n",
       "       [0.70571176, 0.29428824],\n",
       "       [0.03095441, 0.96904559],\n",
       "       [0.44743133, 0.55256867],\n",
       "       [0.71276941, 0.28723059],\n",
       "       [0.6604274 , 0.3395726 ],\n",
       "       [0.00423124, 0.99576876],\n",
       "       [0.25534861, 0.74465139],\n",
       "       [0.72518873, 0.27481127],\n",
       "       [0.34474614, 0.65525386],\n",
       "       [0.71993884, 0.28006116],\n",
       "       [0.55650884, 0.44349116],\n",
       "       [0.72853998, 0.27146002],\n",
       "       [0.72846962, 0.27153038],\n",
       "       [0.67573006, 0.32426994],\n",
       "       [0.72799821, 0.27200179],\n",
       "       [0.72845316, 0.27154684],\n",
       "       [0.71083724, 0.28916276],\n",
       "       [0.72818009, 0.27181991],\n",
       "       [0.631916  , 0.368084  ],\n",
       "       [0.03863278, 0.96136722],\n",
       "       [0.72525384, 0.27474616],\n",
       "       [0.72632647, 0.27367353],\n",
       "       [0.66590175, 0.33409825],\n",
       "       [0.49689779, 0.50310221],\n",
       "       [0.72451315, 0.27548685],\n",
       "       [0.32200383, 0.67799617],\n",
       "       [0.665283  , 0.334717  ],\n",
       "       [0.7272662 , 0.2727338 ],\n",
       "       [0.6722924 , 0.3277076 ],\n",
       "       [0.29804674, 0.70195326],\n",
       "       [0.71456038, 0.28543962],\n",
       "       [0.72770625, 0.27229375],\n",
       "       [0.72002096, 0.27997904],\n",
       "       [0.19698912, 0.80301088],\n",
       "       [0.21371731, 0.78628269],\n",
       "       [0.71300395, 0.28699605],\n",
       "       [0.0410373 , 0.9589627 ],\n",
       "       [0.6456169 , 0.3543831 ],\n",
       "       [0.58195036, 0.41804964],\n",
       "       [0.70621253, 0.29378747],\n",
       "       [0.72830009, 0.27169991],\n",
       "       [0.59206113, 0.40793887],\n",
       "       [0.03679701, 0.96320299],\n",
       "       [0.70541937, 0.29458063],\n",
       "       [0.71759342, 0.28240658],\n",
       "       [0.72637904, 0.27362096],\n",
       "       [0.56064043, 0.43935957],\n",
       "       [0.72264836, 0.27735164],\n",
       "       [0.70035031, 0.29964969],\n",
       "       [0.72858605, 0.27141395],\n",
       "       [0.72598669, 0.27401331],\n",
       "       [0.72690456, 0.27309544],\n",
       "       [0.72781247, 0.27218753],\n",
       "       [0.43323949, 0.56676051],\n",
       "       [0.7136008 , 0.2863992 ],\n",
       "       [0.16566513, 0.83433487],\n",
       "       [0.72011855, 0.27988145]])"
      ]
     },
     "execution_count": 111,
     "metadata": {},
     "output_type": "execute_result"
    }
   ],
   "source": [
    "Y_prob = cls.predict_proba(X)\n",
    "Y_prob"
   ]
  },
  {
   "cell_type": "code",
   "execution_count": 112,
   "metadata": {},
   "outputs": [
    {
     "data": {
      "text/plain": [
       "array([1, 1, 1, 0, 0, 1, 0, 1, 1, 1, 1, 0, 0, 0, 1, 1, 1, 1, 1, 1, 1, 1,\n",
       "       1, 0, 1, 1, 0, 1, 1, 1, 1, 1, 0, 1, 0, 1, 0, 1, 1, 0, 0, 1, 0, 1,\n",
       "       0, 1, 0, 0, 0, 1, 1, 1, 1, 0, 0, 1, 0, 1, 1, 1, 1, 1, 0, 0, 1, 1,\n",
       "       0, 0, 1, 0, 1, 1, 1, 1, 1, 1, 1, 1, 1, 1, 0, 1, 1, 1, 0, 1, 0, 1,\n",
       "       1, 1, 0, 1, 1, 1, 0, 0, 1, 0, 1, 1, 1, 1, 1, 0, 1, 1, 1, 1, 1, 1,\n",
       "       1, 1, 1, 1, 0, 1, 0, 1])"
      ]
     },
     "execution_count": 112,
     "metadata": {},
     "output_type": "execute_result"
    }
   ],
   "source": [
    "Y_hat = cls.predict(X)\n",
    "Y_hat"
   ]
  },
  {
   "cell_type": "code",
   "execution_count": 113,
   "metadata": {},
   "outputs": [
    {
     "data": {
      "text/plain": [
       "0.711864406779661"
      ]
     },
     "execution_count": 113,
     "metadata": {},
     "output_type": "execute_result"
    }
   ],
   "source": [
    "accuracy_score(Y, Y_hat)"
   ]
  },
  {
   "cell_type": "code",
   "execution_count": 114,
   "metadata": {},
   "outputs": [
    {
     "data": {
      "image/png": "[encoded data removed]",
      "text/plain": [
       "<Figure size 432x288 with 1 Axes>"
      ]
     },
     "metadata": {
      "needs_background": "light"
     },
     "output_type": "display_data"
    }
   ],
   "source": [
    "plot_data(X, Y)\n",
    "plot_surface(cls, X[:, 0], X[:, 1])"
   ]
  },
  {
   "cell_type": "code",
   "execution_count": 115,
   "metadata": {},
   "outputs": [],
   "source": [
    "from sklearn.neural_network import MLPClassifier\n",
    "clf = MLPClassifier(hidden_layer_sizes = (20,), max_iter = 10000, activation = 'relu', solver = 'sgd', learning_rate_init = 0.01, learning_rate = 'constant')"
   ]
  },
  {
   "cell_type": "code",
   "execution_count": 116,
   "metadata": {},
   "outputs": [
    {
     "data": {
      "text/plain": [
       "MLPClassifier(activation='relu', alpha=0.0001, batch_size='auto', beta_1=0.9,\n",
       "              beta_2=0.999, early_stopping=False, epsilon=1e-08,\n",
       "              hidden_layer_sizes=(20,), learning_rate='constant',\n",
       "              learning_rate_init=0.01, max_fun=15000, max_iter=10000,\n",
       "              momentum=0.9, n_iter_no_change=10, nesterovs_momentum=True,\n",
       "              power_t=0.5, random_state=None, shuffle=True, solver='sgd',\n",
       "              tol=0.0001, validation_fraction=0.1, verbose=False,\n",
       "              warm_start=False)"
      ]
     },
     "execution_count": 116,
     "metadata": {},
     "output_type": "execute_result"
    }
   ],
   "source": [
    "clf.fit(X, Y)"
   ]
  },
  {
   "cell_type": "code",
   "execution_count": 117,
   "metadata": {},
   "outputs": [
    {
     "data": {
      "image/png": "[encoded data removed]",
      "text/plain": [
       "<Figure size 432x288 with 1 Axes>"
      ]
     },
     "metadata": {
      "needs_background": "light"
     },
     "output_type": "display_data"
    }
   ],
   "source": [
    "plot_data(X, Y)\n",
    "plot_surface(clf, X[:, 0], X[:, 1])"
   ]
  },
  {
   "cell_type": "code",
   "execution_count": 118,
   "metadata": {},
   "outputs": [
    {
     "data": {
      "text/plain": [
       "0.864406779661017"
      ]
     },
     "execution_count": 118,
     "metadata": {},
     "output_type": "execute_result"
    }
   ],
   "source": [
    "accuracy_score(Y, clf.predict(X))"
   ]
  }
 ],
 "metadata": {
  "kernelspec": {
   "display_name": "Python 3",
   "language": "python",
   "name": "python3"
  },
  "language_info": {
   "codemirror_mode": {
    "name": "ipython",
    "version": 3
   },
   "file_extension": ".py",
   "mimetype": "text/x-python",
   "name": "python",
   "nbconvert_exporter": "python",
   "pygments_lexer": "ipython3",
   "version": "3.6.7"
  }
 },
 "nbformat": 4,
 "nbformat_minor": 2
}
