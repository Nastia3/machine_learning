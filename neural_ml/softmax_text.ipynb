{
 "cells": [
  {
   "cell_type": "code",
   "execution_count": 71,
   "metadata": {},
   "outputs": [],
   "source": [
    "import numpy as np\n",
    "import pandas as pd\n",
    "from sklearn.model_selection import train_test_split\n",
    "from mpl_toolkits.mplot3d import Axes3D\n",
    "import matplotlib.pyplot as plt\n",
    "import seaborn as sns\n",
    "from matplotlib.colors import ListedColormap\n",
    "from sklearn.metrics import accuracy_score\n",
    "\n",
    "import sklearn.linear_model\n",
    "from time import time\n",
    "from sklearn.metrics import accuracy_score, precision_score, recall_score\n",
    "from sklearn.datasets import fetch_20newsgroups\n",
    "from sklearn.metrics import confusion_matrix\n",
    "from sklearn.preprocessing import OneHotEncoder\n",
    "from sklearn.feature_extraction.text import TfidfVectorizer\n",
    "from sklearn.metrics import classification_report\n",
    "from sklearn.preprocessing import LabelEncoder\n",
    "import warnings\n",
    "warnings.filterwarnings(\"ignore\", category=FutureWarning)"
   ]
  },
  {
   "cell_type": "code",
   "execution_count": 72,
   "metadata": {},
   "outputs": [],
   "source": [
    "class NeuralNet:\n",
    "    \n",
    "    \"\"\"\n",
    "    NN for binary classification\n",
    "    Attributes:\n",
    "    ...\n",
    "    \"\"\"\n",
    " \n",
    "    def __init__(self, normalize = True, learning_rate = 0.01, ammount_iter = 30000, hidden_layer_sizes=(100,), e=1e-6):\n",
    "        self.learning_rate = learning_rate\n",
    "        self.ammount_iter = ammount_iter\n",
    "        self.normalize = normalize\n",
    "        self.hidden_layer_sizes = hidden_layer_sizes\n",
    "        self.n_layers = 1 + len(hidden_layer_sizes)\n",
    "        self.e = e\n",
    "    \n",
    "    def __normalize(self, X, mean = None, std = None):\n",
    "        \"\"\"\n",
    "        Зверніть увагу, що нормалізація вхідних даних є дуже важливою для швидкодії нейронних мереж.\n",
    "        \"\"\"\n",
    "        n = X.shape[0]\n",
    "        m = mean\n",
    "        if m is None:\n",
    "            m = np.mean(X, axis=1).reshape((n, 1))\n",
    "        s = std\n",
    "        if s is None:\n",
    "            s = np.std(X, axis=1).reshape((n, 1))\n",
    "        X_new = (X - m) / s**2\n",
    "        return X_new, m, s\n",
    "\n",
    "    def __sigmoid(self, Z):\n",
    "        return 1 / (1 + np.exp(-Z))\n",
    "    \n",
    "    def softmax(self, Z):\n",
    "        expZ = np.exp(Z - np.max(Z))\n",
    "        return expZ / expZ.sum(axis=0, keepdims=True)\n",
    "    \n",
    "    def __initialize_parameters(self, n_x, hidden_layers, n_y):\n",
    "        np.random.seed(1)\n",
    "        W = list()\n",
    "        b = list()\n",
    "        \n",
    "        h = list(hidden_layers)\n",
    "        h.insert(0, n_x)\n",
    "        h.append(n_y)\n",
    "        hidden_layers = tuple(h)\n",
    "        \n",
    "        for l in range(1, self.n_layers+1):\n",
    "            W.append(np.random.randn(hidden_layers[l], hidden_layers[l-1]) / np.sqrt(\n",
    "                hidden_layers[l - 1]))\n",
    "            b.append(np.zeros((hidden_layers[l], 1)))\n",
    "\n",
    "        self.parameters = {\"W\" : W, \"b\" : b}\n",
    "    \n",
    "    def __forward_process(self, X):\n",
    "        W = self.parameters[\"W\"]\n",
    "        b = self.parameters[\"b\"]\n",
    "\n",
    "        A = list()\n",
    "        Z = list()\n",
    "               \n",
    "        for l in range(0, self.n_layers-1):\n",
    "            if l == 0:\n",
    "                Z.append(np.dot(W[l], X) + b[l])\n",
    "            else:\n",
    "                Z.append(np.dot(W[l], A[l-1]) + b[l])\n",
    "            A.append(self.__sigmoid(Z[l]))\n",
    "        \n",
    "        Z.append(np.dot(W[-1], A[-1]) + b[-1])\n",
    "        A.append(self.softmax(Z[-1]))\n",
    "        \n",
    "        cache = (W, b, Z, A)\n",
    "\n",
    "        return A[-1], cache\n",
    "    \n",
    "    def __backward_process(self, X, Y, cache):\n",
    "        m = X.shape[1]\n",
    "        n = X.shape[0]\n",
    "        (W, b, Z, A) = cache\n",
    "        \n",
    "        dW = [None] * (self.n_layers)\n",
    "        dA = [None] * (self.n_layers)\n",
    "        dZ = [None] * (self.n_layers)\n",
    "        db = [None] * (self.n_layers)\n",
    "              \n",
    "        dZ[-1] = (A[-1] - Y)\n",
    "        dW[-1] = (1. / m * np.dot(dZ[-1], A[-2].T))\n",
    "        db[-1] = (1. / m * np.sum(dZ[-1], axis = 1, keepdims = True))\n",
    "        dA[-1] = np.dot(W[-1].T, dZ[-1])\n",
    "        \n",
    "        for l in range(self.n_layers-1, 0, -1):\n",
    "            dZ[l-1] = np.multiply(dA[l], self.__sigmoid_derivative(Z[l-1]))\n",
    "            if l-1 == 0:\n",
    "                dW[l-1] = 1. / m * np.dot(dZ[l-1], X.T)\n",
    "            else:\n",
    "                dW[l-1] = 1. / m * np.dot(dZ[l-1], A[l-2].T)\n",
    "            db[l-1] = 1. / m * np.sum(dZ[l-1], axis = 1, keepdims = True) \n",
    "            dA[l-1] = np.dot(W[l-1].T, dZ[l-1])\n",
    "        \n",
    "        grads = {\"dZ\" : dZ, \"dW\" : dW, \"db\" : db}\n",
    "        return grads\n",
    "    \n",
    "    def compute_cost(self, A, Y):\n",
    "        return -np.mean(Y.T * np.log(A.T+ 1e-8))\n",
    "    \n",
    "    def cross_entropy(self, A, Y):\n",
    "        return - np.sum(np.log(A) * (Y), axis=1)\n",
    "    \n",
    "    def __sigmoid_derivative(self, Z):\n",
    "        s = 1 / (1 + np.exp(-Z))\n",
    "        return np.multiply(s, (1 - s))\n",
    "    \n",
    "    \n",
    "    def __update_parameters(self, grads):\n",
    "        W = self.parameters[\"W\"]\n",
    "        b = self.parameters[\"b\"]\n",
    "\n",
    "        dW = grads[\"dW\"]\n",
    "        db = grads[\"db\"]\n",
    "        \n",
    "        for i in range(self.n_layers):\n",
    "            W[i] = W[i] - self.learning_rate * dW[i]\n",
    "            b[i] = b[i] - self.learning_rate * db[i]\n",
    "\n",
    "    def fit(self, X_vert, Y_vert, print_cost = True):\n",
    "        self.n_iter = 0\n",
    "        X, Y = X_vert.T, Y_vert.T\n",
    "        \n",
    "        if self.normalize:\n",
    "            X, self.__mean, self.__std = self.__normalize(X)\n",
    "        \n",
    "        costs = []\n",
    "        cost_history = []\n",
    "        \n",
    "        m = X.shape[1]\n",
    "        n_x = X.shape[0]\n",
    "        n_y = Y.shape[0]\n",
    "        \n",
    "        self.__initialize_parameters(n_x, self.hidden_layer_sizes, n_y)\n",
    "\n",
    "        for i in range(self.ammount_iter):\n",
    "            self.n_iter = i\n",
    "            A, cache = self.__forward_process(X)\n",
    "\n",
    "            cost = self.compute_cost(A, Y)\n",
    "\n",
    "            grads = self.__backward_process(X, Y, cache)\n",
    "\n",
    "            self.__update_parameters(grads)\n",
    "            \n",
    "            cost_history.append(cost)\n",
    "            \n",
    "            if print_cost and i % 100 == 0:\n",
    "                print(\"{}-th iteration: {}\".format(i, cost))\n",
    "\n",
    "            if i % 100 == 0:\n",
    "                costs.append(cost)\n",
    "  \n",
    "            if i > 1 and abs(cost-cost_history[-2]) < self.e:\n",
    "                print('Stopping gradient descent ...')\n",
    "                break\n",
    "\n",
    "        if print_cost:\n",
    "            plt.plot(costs)\n",
    "            plt.ylabel(\"Cost\")\n",
    "            plt.xlabel(\"Iteration, *100\")\n",
    "            plt.show()\n",
    "    \n",
    "    def predict_proba(self, X_vert):\n",
    "        X = X_vert.T\n",
    "        if self.normalize:\n",
    "            X, _, _ = self.__normalize(X, self.__mean, self.__std)\n",
    "        \n",
    "        probs = self.__forward_process(X)[0]\n",
    "        \n",
    "        return probs.T\n",
    "    \n",
    "    def predict(self, X_vert):\n",
    "        positive_probs = self.predict_proba(X_vert)\n",
    "        y_pred = self.to_classlabel(positive_probs)\n",
    "        return y_pred  \n",
    "\n",
    "    def to_classlabel(self, z):\n",
    "        return z.argmax(axis=1)"
   ]
  },
  {
   "cell_type": "code",
   "execution_count": 73,
   "metadata": {},
   "outputs": [],
   "source": [
    "\n",
    "HEADERS = [\n",
    "    'From', 'Subject', 'To', 'Reply-To', 'In-Reply-To', 'Apparently-To',\n",
    "    'Original-Sender', 'Originator', 'Moderator', 'Organization', 'Keywords',\n",
    "    'Distribution', 'NNTP-Posting-Host', 'Lines', 'Summary', 'Supersedes',\n",
    "    'X-Bytes', 'X-Disclaimer', 'X-Mailer', 'X-Newsreader', 'X-News-Reader',\n",
    "    'X-Gated-By', 'X-Added', 'X-Status',\n",
    "    'OD-Comment-To', 'Expires', 'Disclaimer', 'Article-I.D.', \n",
    "    'News-Software',  'Nf-ID', 'Mime-Version'\n",
    "]\n",
    "\n",
    "RE_EMAIL = re.compile('<?.*@.*>?', re.M)\n",
    "RE_LINE_BREAK = re.compile('\\\\n+', re.M)\n",
    "RE_CITATION = re.compile('^.*writes:$', re.M)\n",
    "RE_CITATION_QUOTES = re.compile('(\\W+|^)(\\|>|>|\\|)+', re.M)\n",
    "RE_HEADERS = re.compile('^(%s):.*$' % '|'.join(HEADERS), re.M|re.I)\n",
    "def _clean(docs):\n",
    "    docs = map(rm_headers, docs)\n",
    "    docs = map(rm_citation, docs)\n",
    "    docs = map(rm_citation_quotes, docs)\n",
    "    docs = map(rm_email, docs)\n",
    "    docs = map(rm_line_break, docs)\n",
    "    \n",
    "    return list(docs)\n",
    "\n",
    "def rm_citation(doc):\n",
    "    return RE_CITATION.sub('', doc)\n",
    "\n",
    "def rm_citation_quotes(doc):\n",
    "    return RE_CITATION_QUOTES.sub(r'\\1', doc)\n",
    "\n",
    "def rm_email(doc):\n",
    "    return RE_EMAIL.sub('<email>', doc)\n",
    "\n",
    "def rm_line_break(doc):\n",
    "    return RE_LINE_BREAK.sub(' ', doc).strip('\\n\\t ')\n",
    "\n",
    "def rm_headers(doc):\n",
    "    return RE_HEADERS.sub('', doc)"
   ]
  },
  {
   "cell_type": "code",
   "execution_count": 74,
   "metadata": {},
   "outputs": [],
   "source": [
    "ng = fetch_20newsgroups(subset=\"all\", shuffle=False)\n",
    "df=pd.DataFrame.from_dict({\n",
    "        'text': _clean(ng.data),\n",
    "        'group': np.take(ng.target_names, ng.target)\n",
    "    })"
   ]
  },
  {
   "cell_type": "code",
   "execution_count": 75,
   "metadata": {},
   "outputs": [
    {
     "data": {
      "text/plain": [
       "sklearn.utils.Bunch"
      ]
     },
     "execution_count": 75,
     "metadata": {},
     "output_type": "execute_result"
    }
   ],
   "source": [
    "type(ng)"
   ]
  },
  {
   "cell_type": "code",
   "execution_count": 76,
   "metadata": {},
   "outputs": [
    {
     "data": {
      "text/plain": [
       "18846"
      ]
     },
     "execution_count": 76,
     "metadata": {},
     "output_type": "execute_result"
    }
   ],
   "source": [
    "len(ng.data)"
   ]
  },
  {
   "cell_type": "code",
   "execution_count": 77,
   "metadata": {},
   "outputs": [
    {
     "data": {
      "text/html": [
       "<div>\n",
       "<style scoped>\n",
       "    .dataframe tbody tr th:only-of-type {\n",
       "        vertical-align: middle;\n",
       "    }\n",
       "\n",
       "    .dataframe tbody tr th {\n",
       "        vertical-align: top;\n",
       "    }\n",
       "\n",
       "    .dataframe thead th {\n",
       "        text-align: right;\n",
       "    }\n",
       "</style>\n",
       "<table border=\"1\" class=\"dataframe\">\n",
       "  <thead>\n",
       "    <tr style=\"text-align: right;\">\n",
       "      <th></th>\n",
       "      <th>text</th>\n",
       "      <th>group</th>\n",
       "    </tr>\n",
       "  </thead>\n",
       "  <tbody>\n",
       "    <tr>\n",
       "      <th>0</th>\n",
       "      <td>morgan and guzman will have era's 1 run higher...</td>\n",
       "      <td>rec.sport.baseball</td>\n",
       "    </tr>\n",
       "    <tr>\n",
       "      <th>1</th>\n",
       "      <td>Well, I just got my Centris 610 yesterday.  It...</td>\n",
       "      <td>comp.sys.mac.hardware</td>\n",
       "    </tr>\n",
       "    <tr>\n",
       "      <th>2</th>\n",
       "      <td>History and classical methods. Modern methods....</td>\n",
       "      <td>sci.crypt</td>\n",
       "    </tr>\n",
       "    <tr>\n",
       "      <th>3</th>\n",
       "      <td>ATTENTION: Mac Quadra owners: Many storage ind...</td>\n",
       "      <td>comp.sys.mac.hardware</td>\n",
       "    </tr>\n",
       "    <tr>\n",
       "      <th>4</th>\n",
       "      <td>To show that the examples I and others have pr...</td>\n",
       "      <td>alt.atheism</td>\n",
       "    </tr>\n",
       "    <tr>\n",
       "      <th>5</th>\n",
       "      <td>Help!!! I have an ADB graphicsd tablet which I...</td>\n",
       "      <td>comp.sys.mac.hardware</td>\n",
       "    </tr>\n",
       "    <tr>\n",
       "      <th>6</th>\n",
       "      <td>Hello world, I want to write my Xt-application...</td>\n",
       "      <td>comp.windows.x</td>\n",
       "    </tr>\n",
       "    <tr>\n",
       "      <th>7</th>\n",
       "      <td>&lt;email&gt;    Hi.   &gt;     I use Emacs and I want ...</td>\n",
       "      <td>comp.windows.x</td>\n",
       "    </tr>\n",
       "    <tr>\n",
       "      <th>8</th>\n",
       "      <td>Does anyone on this newsgroup happen to know W...</td>\n",
       "      <td>sci.med</td>\n",
       "    </tr>\n",
       "    <tr>\n",
       "      <th>9</th>\n",
       "      <td>X-Posted-From: britain.madvlsi.columbia.edu Hi...</td>\n",
       "      <td>sci.electronics</td>\n",
       "    </tr>\n",
       "  </tbody>\n",
       "</table>\n",
       "</div>"
      ],
      "text/plain": [
       "                                                text                  group\n",
       "0  morgan and guzman will have era's 1 run higher...     rec.sport.baseball\n",
       "1  Well, I just got my Centris 610 yesterday.  It...  comp.sys.mac.hardware\n",
       "2  History and classical methods. Modern methods....              sci.crypt\n",
       "3  ATTENTION: Mac Quadra owners: Many storage ind...  comp.sys.mac.hardware\n",
       "4  To show that the examples I and others have pr...            alt.atheism\n",
       "5  Help!!! I have an ADB graphicsd tablet which I...  comp.sys.mac.hardware\n",
       "6  Hello world, I want to write my Xt-application...         comp.windows.x\n",
       "7  <email>    Hi.   >     I use Emacs and I want ...         comp.windows.x\n",
       "8  Does anyone on this newsgroup happen to know W...                sci.med\n",
       "9  X-Posted-From: britain.madvlsi.columbia.edu Hi...        sci.electronics"
      ]
     },
     "execution_count": 77,
     "metadata": {},
     "output_type": "execute_result"
    }
   ],
   "source": [
    "df.head(10)"
   ]
  },
  {
   "cell_type": "code",
   "execution_count": 78,
   "metadata": {},
   "outputs": [
    {
     "name": "stdout",
     "output_type": "stream",
     "text": [
      "From: gnelson@pion.rutgers.edu (Gregory Nelson)\n",
      "Subject: Thanks Apple: Free Ethernet on my C610!\n",
      "Article-I.D.: pion.Apr.6.12.05.34.1993.11732\n",
      "Organization: Rutgers Univ., New Brunswick, N.J.\n",
      "Lines: 26\n",
      "\n",
      "\n",
      "\tWell, I just got my Centris 610 yesterday.  It took just over two \n",
      "weeks from placing the order.  The dealer (Rutgers computer store) \n",
      "appologized because Apple made a substitution on my order.  I ordered\n",
      "the one without ethernet, but they substituted one _with_ ethernet.\n",
      "He wanted to know if that would be \"alright with me\"!!!  They must\n",
      "be backlogged on Centri w/out ethernet so they're just shipping them\n",
      "with!  \n",
      "\n",
      "\tAnyway, I'm very happy with the 610 with a few exceptions.  \n",
      "Being nosy, I decided to open it up _before_ powering it on for the first\n",
      "time.  The SCSI cable to the hard drive was only partially connected\n",
      "(must have come loose in shipping).  No big deal, but I would have been\n",
      "pissed if I tried to boot it and it wouldn't come up!\n",
      "\tThe hard drive also has an annoying high pitched whine.  I've\n",
      "heard apple will exchange it if you complain, so I might try to get\n",
      "it swapped.\n",
      "\tI am also dissappionted by the lack of soft power-on/off.  This\n",
      "wasn't mentioned in any of the literature I saw.  Also, the location\n",
      "of the reset/interupt buttons is awful.  Having keyboard control for\n",
      "these functions was much more convenient.\n",
      "\tOh, and the screen seems tojump in a wierd way on power-up.\n",
      "I've seen this mentioned by others, so it must be a...feature...\n",
      "\tAnyway, above all, it's fast.  A great machine at a great price!\n",
      "\n",
      "gnelson@physics.rutgers.edu\n",
      "\n"
     ]
    }
   ],
   "source": [
    "print(ng.data[1])"
   ]
  },
  {
   "cell_type": "code",
   "execution_count": 79,
   "metadata": {},
   "outputs": [
    {
     "data": {
      "text/html": [
       "<div>\n",
       "<style scoped>\n",
       "    .dataframe tbody tr th:only-of-type {\n",
       "        vertical-align: middle;\n",
       "    }\n",
       "\n",
       "    .dataframe tbody tr th {\n",
       "        vertical-align: top;\n",
       "    }\n",
       "\n",
       "    .dataframe thead th {\n",
       "        text-align: right;\n",
       "    }\n",
       "</style>\n",
       "<table border=\"1\" class=\"dataframe\">\n",
       "  <thead>\n",
       "    <tr style=\"text-align: right;\">\n",
       "      <th></th>\n",
       "      <th>text</th>\n",
       "      <th>group</th>\n",
       "    </tr>\n",
       "  </thead>\n",
       "  <tbody>\n",
       "    <tr>\n",
       "      <th>count</th>\n",
       "      <td>18846</td>\n",
       "      <td>18846</td>\n",
       "    </tr>\n",
       "    <tr>\n",
       "      <th>unique</th>\n",
       "      <td>18750</td>\n",
       "      <td>20</td>\n",
       "    </tr>\n",
       "    <tr>\n",
       "      <th>top</th>\n",
       "      <td></td>\n",
       "      <td>rec.sport.hockey</td>\n",
       "    </tr>\n",
       "    <tr>\n",
       "      <th>freq</th>\n",
       "      <td>30</td>\n",
       "      <td>999</td>\n",
       "    </tr>\n",
       "  </tbody>\n",
       "</table>\n",
       "</div>"
      ],
      "text/plain": [
       "         text             group\n",
       "count   18846             18846\n",
       "unique  18750                20\n",
       "top            rec.sport.hockey\n",
       "freq       30               999"
      ]
     },
     "execution_count": 79,
     "metadata": {},
     "output_type": "execute_result"
    }
   ],
   "source": [
    "df.describe(include='all')"
   ]
  },
  {
   "cell_type": "markdown",
   "metadata": {},
   "source": [
    "Split data"
   ]
  },
  {
   "cell_type": "code",
   "execution_count": 80,
   "metadata": {},
   "outputs": [],
   "source": [
    "train, test = train_test_split(df, test_size=0.2, random_state=42, stratify=df.group)\n"
   ]
  },
  {
   "cell_type": "code",
   "execution_count": 81,
   "metadata": {},
   "outputs": [
    {
     "data": {
      "text/plain": [
       "(15076, 2)"
      ]
     },
     "execution_count": 81,
     "metadata": {},
     "output_type": "execute_result"
    }
   ],
   "source": [
    "train.shape"
   ]
  },
  {
   "cell_type": "code",
   "execution_count": 82,
   "metadata": {},
   "outputs": [
    {
     "data": {
      "text/plain": [
       "(3770, 2)"
      ]
     },
     "execution_count": 82,
     "metadata": {},
     "output_type": "execute_result"
    }
   ],
   "source": [
    "test.shape"
   ]
  },
  {
   "cell_type": "code",
   "execution_count": 83,
   "metadata": {
    "scrolled": true
   },
   "outputs": [
    {
     "data": {
      "text/plain": [
       "rec.sport.hockey            799\n",
       "soc.religion.christian      798\n",
       "rec.motorcycles             797\n",
       "rec.sport.baseball          795\n",
       "sci.crypt                   793\n",
       "rec.autos                   792\n",
       "sci.med                     792\n",
       "comp.windows.x              790\n",
       "sci.space                   790\n",
       "comp.os.ms-windows.misc     788\n",
       "sci.electronics             787\n",
       "comp.sys.ibm.pc.hardware    786\n",
       "misc.forsale                780\n",
       "comp.graphics               778\n",
       "comp.sys.mac.hardware       770\n",
       "talk.politics.mideast       752\n",
       "talk.politics.guns          728\n",
       "alt.atheism                 639\n",
       "talk.politics.misc          620\n",
       "talk.religion.misc          502\n",
       "Name: group, dtype: int64"
      ]
     },
     "execution_count": 83,
     "metadata": {},
     "output_type": "execute_result"
    }
   ],
   "source": [
    "train.group.value_counts()"
   ]
  },
  {
   "cell_type": "code",
   "execution_count": 84,
   "metadata": {},
   "outputs": [
    {
     "data": {
      "text/plain": [
       "rec.sport.hockey            200\n",
       "rec.motorcycles             199\n",
       "soc.religion.christian      199\n",
       "rec.sport.baseball          199\n",
       "rec.autos                   198\n",
       "comp.windows.x              198\n",
       "sci.med                     198\n",
       "sci.crypt                   198\n",
       "sci.electronics             197\n",
       "sci.space                   197\n",
       "comp.os.ms-windows.misc     197\n",
       "comp.sys.ibm.pc.hardware    196\n",
       "comp.graphics               195\n",
       "misc.forsale                195\n",
       "comp.sys.mac.hardware       193\n",
       "talk.politics.mideast       188\n",
       "talk.politics.guns          182\n",
       "alt.atheism                 160\n",
       "talk.politics.misc          155\n",
       "talk.religion.misc          126\n",
       "Name: group, dtype: int64"
      ]
     },
     "execution_count": 84,
     "metadata": {},
     "output_type": "execute_result"
    }
   ],
   "source": [
    "test.group.value_counts()"
   ]
  },
  {
   "cell_type": "code",
   "execution_count": 85,
   "metadata": {},
   "outputs": [
    {
     "data": {
      "text/plain": [
       "array(['alt.atheism', 'comp.graphics', 'comp.os.ms-windows.misc',\n",
       "       'comp.sys.ibm.pc.hardware', 'comp.sys.mac.hardware',\n",
       "       'comp.windows.x', 'misc.forsale', 'rec.autos', 'rec.motorcycles',\n",
       "       'rec.sport.baseball', 'rec.sport.hockey', 'sci.crypt',\n",
       "       'sci.electronics', 'sci.med', 'sci.space',\n",
       "       'soc.religion.christian', 'talk.politics.guns',\n",
       "       'talk.politics.mideast', 'talk.politics.misc',\n",
       "       'talk.religion.misc'], dtype=object)"
      ]
     },
     "execution_count": 85,
     "metadata": {},
     "output_type": "execute_result"
    }
   ],
   "source": [
    "label_encoder = LabelEncoder().fit(train.group)\n",
    "label_encoder.classes_"
   ]
  },
  {
   "cell_type": "code",
   "execution_count": 86,
   "metadata": {},
   "outputs": [
    {
     "data": {
      "text/plain": [
       "10000"
      ]
     },
     "execution_count": 86,
     "metadata": {},
     "output_type": "execute_result"
    }
   ],
   "source": [
    "tfidf = TfidfVectorizer(max_features=10000).fit(train.text)\n",
    "len(tfidf.vocabulary_)"
   ]
  },
  {
   "cell_type": "code",
   "execution_count": 87,
   "metadata": {},
   "outputs": [],
   "source": [
    "X_train = tfidf.transform(train.text).toarray()\n",
    "\n",
    "X_test = tfidf.transform(test.text).toarray()"
   ]
  },
  {
   "cell_type": "code",
   "execution_count": 88,
   "metadata": {},
   "outputs": [
    {
     "data": {
      "text/plain": [
       "(15076, 10000)"
      ]
     },
     "execution_count": 88,
     "metadata": {},
     "output_type": "execute_result"
    }
   ],
   "source": [
    "X_train.shape"
   ]
  },
  {
   "cell_type": "code",
   "execution_count": 89,
   "metadata": {},
   "outputs": [
    {
     "data": {
      "text/plain": [
       "(3770, 10000)"
      ]
     },
     "execution_count": 89,
     "metadata": {},
     "output_type": "execute_result"
    }
   ],
   "source": [
    "X_test.shape"
   ]
  },
  {
   "cell_type": "code",
   "execution_count": 90,
   "metadata": {},
   "outputs": [],
   "source": [
    "label_encoder = LabelEncoder().fit(train.group)"
   ]
  },
  {
   "cell_type": "code",
   "execution_count": 91,
   "metadata": {},
   "outputs": [],
   "source": [
    "Y_train = label_encoder.transform(train.group)\n",
    "\n",
    "Y_test = label_encoder.transform(test.group)"
   ]
  },
  {
   "cell_type": "code",
   "execution_count": 92,
   "metadata": {},
   "outputs": [
    {
     "data": {
      "text/plain": [
       "(15076,)"
      ]
     },
     "execution_count": 92,
     "metadata": {},
     "output_type": "execute_result"
    }
   ],
   "source": [
    "Y_train.shape"
   ]
  },
  {
   "cell_type": "code",
   "execution_count": 93,
   "metadata": {},
   "outputs": [
    {
     "data": {
      "text/plain": [
       "(3770,)"
      ]
     },
     "execution_count": 93,
     "metadata": {},
     "output_type": "execute_result"
    }
   ],
   "source": [
    "Y_test.shape"
   ]
  },
  {
   "cell_type": "code",
   "execution_count": 94,
   "metadata": {},
   "outputs": [],
   "source": [
    "from sklearn.naive_bayes import MultinomialNB\n",
    "clf = MultinomialNB().fit(X_train, Y_train)"
   ]
  },
  {
   "cell_type": "raw",
   "metadata": {},
   "source": [
    "train"
   ]
  },
  {
   "cell_type": "code",
   "execution_count": 95,
   "metadata": {},
   "outputs": [
    {
     "name": "stdout",
     "output_type": "stream",
     "text": [
      "                          precision    recall  f1-score   support\n",
      "\n",
      "             alt.atheism       0.88      0.72      0.79       639\n",
      "           comp.graphics       0.84      0.85      0.85       778\n",
      " comp.os.ms-windows.misc       0.83      0.86      0.85       788\n",
      "comp.sys.ibm.pc.hardware       0.79      0.88      0.83       786\n",
      "   comp.sys.mac.hardware       0.92      0.89      0.91       770\n",
      "          comp.windows.x       0.92      0.88      0.90       790\n",
      "            misc.forsale       0.90      0.80      0.85       780\n",
      "               rec.autos       0.91      0.94      0.92       792\n",
      "         rec.motorcycles       0.96      0.95      0.96       797\n",
      "      rec.sport.baseball       0.96      0.97      0.97       795\n",
      "        rec.sport.hockey       0.94      0.98      0.96       799\n",
      "               sci.crypt       0.91      0.95      0.93       793\n",
      "         sci.electronics       0.88      0.84      0.86       787\n",
      "                 sci.med       0.94      0.95      0.95       792\n",
      "               sci.space       0.95      0.93      0.94       790\n",
      "  soc.religion.christian       0.59      0.97      0.74       798\n",
      "      talk.politics.guns       0.75      0.96      0.84       728\n",
      "   talk.politics.mideast       0.92      0.95      0.94       752\n",
      "      talk.politics.misc       0.97      0.67      0.79       620\n",
      "      talk.religion.misc       1.00      0.10      0.18       502\n",
      "\n",
      "                accuracy                           0.87     15076\n",
      "               macro avg       0.89      0.85      0.85     15076\n",
      "            weighted avg       0.89      0.87      0.86     15076\n",
      "\n"
     ]
    }
   ],
   "source": [
    "print(classification_report(Y_train, clf.predict(X_train), target_names=label_encoder.classes_))"
   ]
  },
  {
   "cell_type": "markdown",
   "metadata": {},
   "source": [
    "test"
   ]
  },
  {
   "cell_type": "code",
   "execution_count": 96,
   "metadata": {},
   "outputs": [
    {
     "name": "stdout",
     "output_type": "stream",
     "text": [
      "                          precision    recall  f1-score   support\n",
      "\n",
      "             alt.atheism       0.79      0.58      0.67       160\n",
      "           comp.graphics       0.72      0.79      0.76       195\n",
      " comp.os.ms-windows.misc       0.77      0.77      0.77       197\n",
      "comp.sys.ibm.pc.hardware       0.69      0.79      0.73       196\n",
      "   comp.sys.mac.hardware       0.85      0.77      0.81       193\n",
      "          comp.windows.x       0.84      0.82      0.83       198\n",
      "            misc.forsale       0.89      0.75      0.81       195\n",
      "               rec.autos       0.87      0.86      0.86       198\n",
      "         rec.motorcycles       0.88      0.90      0.89       199\n",
      "      rec.sport.baseball       0.95      0.95      0.95       199\n",
      "        rec.sport.hockey       0.93      0.93      0.93       200\n",
      "               sci.crypt       0.85      0.91      0.88       198\n",
      "         sci.electronics       0.82      0.77      0.79       197\n",
      "                 sci.med       0.94      0.88      0.91       198\n",
      "               sci.space       0.91      0.91      0.91       197\n",
      "  soc.religion.christian       0.52      0.96      0.68       199\n",
      "      talk.politics.guns       0.67      0.95      0.79       182\n",
      "   talk.politics.mideast       0.89      0.92      0.90       188\n",
      "      talk.politics.misc       0.94      0.52      0.67       155\n",
      "      talk.religion.misc       1.00      0.04      0.08       126\n",
      "\n",
      "                accuracy                           0.81      3770\n",
      "               macro avg       0.84      0.79      0.78      3770\n",
      "            weighted avg       0.83      0.81      0.80      3770\n",
      "\n"
     ]
    }
   ],
   "source": [
    "print(classification_report(Y_test, clf.predict(X_test), target_names=label_encoder.classes_))"
   ]
  },
  {
   "cell_type": "code",
   "execution_count": 97,
   "metadata": {},
   "outputs": [
    {
     "data": {
      "text/plain": [
       "0.806631299734748"
      ]
     },
     "execution_count": 97,
     "metadata": {},
     "output_type": "execute_result"
    }
   ],
   "source": [
    "pred = clf.predict(X_test)\n",
    "\n",
    "from sklearn.metrics import accuracy_score\n",
    "accuracy_score(Y_test, pred)"
   ]
  },
  {
   "cell_type": "code",
   "execution_count": 98,
   "metadata": {},
   "outputs": [],
   "source": [
    "cls = NeuralNet(normalize = True, learning_rate = 0.1, ammount_iter = 1000, hidden_layer_sizes=(50, ), e=1e-6)"
   ]
  },
  {
   "cell_type": "code",
   "execution_count": 99,
   "metadata": {},
   "outputs": [],
   "source": [
    "encoder = OneHotEncoder()\n",
    "Y_train_e = encoder.fit_transform(Y_train.reshape((Y_train.shape[0], 1))).toarray()"
   ]
  },
  {
   "cell_type": "code",
   "execution_count": 100,
   "metadata": {},
   "outputs": [
    {
     "name": "stderr",
     "output_type": "stream",
     "text": [
      "c:\\nastia\\lib\\site-packages\\ipykernel_launcher.py:32: RuntimeWarning: overflow encountered in exp\n",
      "c:\\nastia\\lib\\site-packages\\ipykernel_launcher.py:110: RuntimeWarning: overflow encountered in exp\n"
     ]
    },
    {
     "name": "stdout",
     "output_type": "stream",
     "text": [
      "0-th iteration: 0.15935598216698577\n",
      "100-th iteration: 0.06964081425896529\n",
      "200-th iteration: 0.03175556067913341\n",
      "300-th iteration: 0.022213174500235473\n",
      "400-th iteration: 0.018583923907584156\n",
      "Stopping gradient descent ...\n"
     ]
    },
    {
     "data": {
      "image/png": "[encoded data removed]",
      "text/plain": [
       "<Figure size 432x288 with 1 Axes>"
      ]
     },
     "metadata": {
      "needs_background": "light"
     },
     "output_type": "display_data"
    }
   ],
   "source": [
    "cls.fit(X_train, Y_train_e)"
   ]
  },
  {
   "cell_type": "code",
   "execution_count": 102,
   "metadata": {},
   "outputs": [
    {
     "name": "stderr",
     "output_type": "stream",
     "text": [
      "c:\\nastia\\lib\\site-packages\\ipykernel_launcher.py:32: RuntimeWarning: overflow encountered in exp\n"
     ]
    },
    {
     "name": "stdout",
     "output_type": "stream",
     "text": [
      "(15076,)\n",
      "Accuracy:  0.9754576810825153\n",
      "Precision:  0.9754576810825153\n",
      "Recall:  0.9754576810825153\n"
     ]
    }
   ],
   "source": [
    "y_train_pred = np.array(cls.predict(X_train))\n",
    "print(Y_train.shape)\n",
    "accuracy_ts = accuracy_score(Y_train, y_train_pred)\n",
    "precision_ts = precision_score(Y_train, y_train_pred, average='micro')\n",
    "recall_ts = recall_score(Y_train, y_train_pred, average='micro')\n",
    "print('Accuracy: ', accuracy_ts)\n",
    "print('Precision: ', precision_ts)\n",
    "print('Recall: ', recall_ts)"
   ]
  },
  {
   "cell_type": "code",
   "execution_count": null,
   "metadata": {},
   "outputs": [],
   "source": []
  }
 ],
 "metadata": {
  "anaconda-cloud": {},
  "kernelspec": {
   "display_name": "Python 3",
   "language": "python",
   "name": "python3"
  },
  "language_info": {
   "codemirror_mode": {
    "name": "ipython",
    "version": 3
   },
   "file_extension": ".py",
   "mimetype": "text/x-python",
   "name": "python",
   "nbconvert_exporter": "python",
   "pygments_lexer": "ipython3",
   "version": "3.6.8"
  }
 },
 "nbformat": 4,
 "nbformat_minor": 1
}
